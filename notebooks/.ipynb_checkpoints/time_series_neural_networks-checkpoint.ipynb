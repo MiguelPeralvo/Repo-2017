{
 "cells": [
  {
   "cell_type": "code",
   "execution_count": 3,
   "metadata": {
    "collapsed": false
   },
   "outputs": [
    {
     "name": "stderr",
     "output_type": "stream",
     "text": [
      "Using Theano backend.\n"
     ]
    }
   ],
   "source": [
    "import pandas as pd\n",
    "import matplotlib.pyplot as plt\n",
    "import numpy\n",
    "import numpy as np\n",
    "import pandas\n",
    "import math\n",
    "from keras.models import Sequential\n",
    "from keras.layers import Dense, Dropout, Activation\n",
    "from keras.layers.recurrent import LSTM\n",
    "from keras.layers import LSTM\n",
    "from sklearn.preprocessing import MinMaxScaler\n",
    "from sklearn.metrics import mean_squared_error\n",
    "from keras import backend as K\n",
    "import keras.callbacks\n",
    "from keras.optimizers import SGD\n",
    "from keras.callbacks import LearningRateScheduler\n",
    "from keras.regularizers import l2, activity_l2\n",
    "from scipy.interpolate import spline"
   ]
  },
  {
   "cell_type": "code",
   "execution_count": 4,
   "metadata": {
    "collapsed": true
   },
   "outputs": [],
   "source": [
    "epochs = 50\n",
    "learning_rate = 0.01\n",
    "decay_rate = 5e-6\n",
    "momentum = 0.9\n",
    "reg=0.0001\n",
    "look_back = 23"
   ]
  },
  {
   "cell_type": "code",
   "execution_count": 5,
   "metadata": {
    "collapsed": false
   },
   "outputs": [],
   "source": [
    "dataframe = pd.read_csv('../data/international-airline-passengers.csv', usecols=[1], engine='python', skipfooter=3)\n",
    "dataset = dataframe.values\n",
    "dataset = dataset.astype('float32')"
   ]
  },
  {
   "cell_type": "code",
   "execution_count": 6,
   "metadata": {
    "collapsed": false
   },
   "outputs": [
    {
     "name": "stdout",
     "output_type": "stream",
     "text": [
      "(115, 29)\n"
     ]
    }
   ],
   "source": [
    "numpy.random.seed(7)\n",
    "scaler = MinMaxScaler(feature_range=(0, 1))\n",
    "dataset = scaler.fit_transform(dataset)\n",
    "train_size = int(len(dataset) * 0.8)\n",
    "test_size = len(dataset) - train_size\n",
    "train, test = dataset[0:train_size,:], dataset[train_size:len(dataset),:]\n",
    "print(len(train), len(test))"
   ]
  },
  {
   "cell_type": "code",
   "execution_count": 7,
   "metadata": {
    "collapsed": true
   },
   "outputs": [],
   "source": [
    "def my_init(shape, name=None):\n",
    "    value = np.random.random(shape)\n",
    "    return K.variable(value, name=name)\n",
    "\n",
    "def step_decay(losses):\n",
    "    if float(2*np.sqrt(np.array(history.losses[-1])))<0.15:\n",
    "        lrate=0.01*1/(1+0.1*len(history.losses))\n",
    "        momentum=0.2\n",
    "        decay_rate=0.0\n",
    "        return lrate\n",
    "    else:\n",
    "        lrate=0.01\n",
    "        return lrate"
   ]
  },
  {
   "cell_type": "code",
   "execution_count": 8,
   "metadata": {
    "collapsed": true
   },
   "outputs": [],
   "source": [
    "sd=[]\n",
    "class LossHistory(keras.callbacks.Callback):\n",
    "    def on_train_begin(self, logs={}):\n",
    "        self.losses = [1,1]\n",
    "\n",
    "    def on_epoch_end(self, batch, logs={}):\n",
    "        self.losses.append(logs.get('loss'))\n",
    "        sd.append(step_decay(len(self.losses)))\n",
    "        print('learning rate:', step_decay(len(self.losses)))\n",
    "        print('derivative of loss:', 2*np.sqrt((self.losses[-1])))\n",
    "\n",
    "def create_dataset(dataset, look_back=1):\n",
    "\tdataX, dataY = [], []\n",
    "\tfor i in range(len(dataset)-look_back):\n",
    "\t\ta = dataset[i:(i+look_back), 0]\n",
    "\t\tdataX.append(a)\n",
    "\t\tdataY.append(dataset[i + look_back, 0])\n",
    "\treturn numpy.array(dataX), numpy.array(dataY)\n"
   ]
  },
  {
   "cell_type": "code",
   "execution_count": 9,
   "metadata": {
    "collapsed": true
   },
   "outputs": [],
   "source": [
    "trainX, trainY = create_dataset(train, look_back)\n",
    "testX, testY = create_dataset(test, look_back)\n",
    "trainX\n",
    "\n",
    "trainY = trainY.reshape(len(trainY), 1)\n",
    "testY = testY.reshape(len(testY), 1)\n",
    "trainY\n",
    "model = Sequential()\n",
    "model.add(Dense(4,input_dim=look_back,init=my_init))\n",
    "model.add(Dense(1, W_regularizer=l2(reg), activity_regularizer=activity_l2(reg)))\n",
    "sgd = SGD(lr=learning_rate,momentum=momentum, decay=decay_rate, nesterov=False,)"
   ]
  },
  {
   "cell_type": "code",
   "execution_count": 12,
   "metadata": {
    "collapsed": false
   },
   "outputs": [
    {
     "name": "stdout",
     "output_type": "stream",
     "text": [
      "Epoch 1/50\n",
      "('learning rate:', 0.007692307692307692)\n",
      "('derivative of loss:', 0.081942213804479733)\n",
      "0s - loss: 0.0017\n",
      "Epoch 2/50\n",
      "('learning rate:', 0.0071428571428571435)\n",
      "('derivative of loss:', 0.079351503775544147)\n",
      "0s - loss: 0.0016\n",
      "Epoch 3/50\n",
      "('learning rate:', 0.006666666666666667)\n",
      "('derivative of loss:', 0.085040389016904208)\n",
      "0s - loss: 0.0018\n",
      "Epoch 4/50\n",
      "('learning rate:', 0.0062499999999999995)\n",
      "('derivative of loss:', 0.079560608172851002)\n",
      "0s - loss: 0.0016\n",
      "Epoch 5/50\n",
      "('learning rate:', 0.0058823529411764705)\n",
      "('derivative of loss:', 0.074529650838667708)\n",
      "0s - loss: 0.0014\n",
      "Epoch 6/50\n",
      "('learning rate:', 0.005555555555555556)\n",
      "('derivative of loss:', 0.074850313692887041)\n",
      "0s - loss: 0.0014\n",
      "Epoch 7/50\n",
      "('learning rate:', 0.005263157894736843)\n",
      "('derivative of loss:', 0.0751471710895837)\n",
      "0s - loss: 0.0014\n",
      "Epoch 8/50\n",
      "('learning rate:', 0.005)\n",
      "('derivative of loss:', 0.079602363171917337)\n",
      "0s - loss: 0.0016\n",
      "Epoch 9/50\n",
      "('learning rate:', 0.0047619047619047615)\n",
      "('derivative of loss:', 0.071114558039662101)\n",
      "0s - loss: 0.0013\n",
      "Epoch 10/50\n",
      "('learning rate:', 0.004545454545454545)\n",
      "('derivative of loss:', 0.072021482875001)\n",
      "0s - loss: 0.0013\n",
      "Epoch 11/50\n",
      "('learning rate:', 0.004347826086956522)\n",
      "('derivative of loss:', 0.06930940462083221)\n",
      "0s - loss: 0.0012\n",
      "Epoch 12/50\n",
      "('learning rate:', 0.004166666666666666)\n",
      "('derivative of loss:', 0.073393104689460711)\n",
      "0s - loss: 0.0013\n",
      "Epoch 13/50\n",
      "('learning rate:', 0.004)\n",
      "('derivative of loss:', 0.068921144546070026)\n",
      "0s - loss: 0.0012\n",
      "Epoch 14/50\n",
      "('learning rate:', 0.003846153846153846)\n",
      "('derivative of loss:', 0.076373727575513972)\n",
      "0s - loss: 0.0015\n",
      "Epoch 15/50\n",
      "('learning rate:', 0.0037037037037037034)\n",
      "('derivative of loss:', 0.071861435709515087)\n",
      "0s - loss: 0.0013\n",
      "Epoch 16/50\n",
      "('learning rate:', 0.0035714285714285718)\n",
      "('derivative of loss:', 0.072195774362665222)\n",
      "0s - loss: 0.0013\n",
      "Epoch 17/50\n",
      "('learning rate:', 0.003448275862068965)\n",
      "('derivative of loss:', 0.073275737294697385)\n",
      "0s - loss: 0.0013\n",
      "Epoch 18/50\n",
      "('learning rate:', 0.0033333333333333335)\n",
      "('derivative of loss:', 0.070282309910763952)\n",
      "0s - loss: 0.0012\n",
      "Epoch 19/50\n",
      "('learning rate:', 0.0032258064516129032)\n",
      "('derivative of loss:', 0.068072875844031044)\n",
      "0s - loss: 0.0012\n",
      "Epoch 20/50\n",
      "('learning rate:', 0.0031249999999999997)\n",
      "('derivative of loss:', 0.069896222203622418)\n",
      "0s - loss: 0.0012\n",
      "Epoch 21/50\n",
      "('learning rate:', 0.0030303030303030303)\n",
      "('derivative of loss:', 0.070213971905326966)\n",
      "0s - loss: 0.0012\n",
      "Epoch 22/50\n",
      "('learning rate:', 0.0029411764705882353)\n",
      "('derivative of loss:', 0.068335625088403684)\n",
      "0s - loss: 0.0012\n",
      "Epoch 23/50\n",
      "('learning rate:', 0.002857142857142857)\n",
      "('derivative of loss:', 0.067695983059366652)\n",
      "0s - loss: 0.0011\n",
      "Epoch 24/50\n",
      "('learning rate:', 0.002777777777777778)\n",
      "('derivative of loss:', 0.067523365443934627)\n",
      "0s - loss: 0.0011\n",
      "Epoch 25/50\n",
      "('learning rate:', 0.0027027027027027024)\n",
      "('derivative of loss:', 0.067314541859372759)\n",
      "0s - loss: 0.0011\n",
      "Epoch 26/50\n",
      "('learning rate:', 0.002631578947368421)\n",
      "('derivative of loss:', 0.066325052396553744)\n",
      "0s - loss: 0.0011\n",
      "Epoch 27/50\n",
      "('learning rate:', 0.002564102564102564)\n",
      "('derivative of loss:', 0.06675819723915874)\n",
      "0s - loss: 0.0011\n",
      "Epoch 28/50\n",
      "('learning rate:', 0.0025)\n",
      "('derivative of loss:', 0.065979476480473948)\n",
      "0s - loss: 0.0011\n",
      "Epoch 29/50\n",
      "('learning rate:', 0.002439024390243903)\n",
      "('derivative of loss:', 0.066183486519013915)\n",
      "0s - loss: 0.0011\n",
      "Epoch 30/50\n",
      "('learning rate:', 0.0023809523809523807)\n",
      "('derivative of loss:', 0.066229754455599851)\n",
      "0s - loss: 0.0011\n",
      "Epoch 31/50\n",
      "('learning rate:', 0.0023255813953488367)\n",
      "('derivative of loss:', 0.065229761296273864)\n",
      "0s - loss: 0.0011\n",
      "Epoch 32/50\n",
      "('learning rate:', 0.0022727272727272726)\n",
      "('derivative of loss:', 0.065248921748575495)\n",
      "0s - loss: 0.0011\n",
      "Epoch 33/50\n",
      "('learning rate:', 0.0022222222222222222)\n",
      "('derivative of loss:', 0.066018478021073426)\n",
      "0s - loss: 0.0011\n",
      "Epoch 34/50\n",
      "('learning rate:', 0.002173913043478261)\n",
      "('derivative of loss:', 0.065233378072450138)\n",
      "0s - loss: 0.0011\n",
      "Epoch 35/50\n",
      "('learning rate:', 0.002127659574468085)\n",
      "('derivative of loss:', 0.065091331324985208)\n",
      "0s - loss: 0.0011\n",
      "Epoch 36/50\n",
      "('learning rate:', 0.002083333333333333)\n",
      "('derivative of loss:', 0.064384943538082093)\n",
      "0s - loss: 0.0010\n",
      "Epoch 37/50\n",
      "('learning rate:', 0.002040816326530612)\n",
      "('derivative of loss:', 0.064579627031776277)\n",
      "0s - loss: 0.0010\n",
      "Epoch 38/50\n",
      "('learning rate:', 0.002)\n",
      "('derivative of loss:', 0.063010415356288874)\n",
      "0s - loss: 9.9258e-04\n",
      "Epoch 39/50\n",
      "('learning rate:', 0.00196078431372549)\n",
      "('derivative of loss:', 0.063576087692037972)\n",
      "0s - loss: 0.0010\n",
      "Epoch 40/50\n",
      "('learning rate:', 0.001923076923076923)\n",
      "('derivative of loss:', 0.064065880349647886)\n",
      "0s - loss: 0.0010\n",
      "Epoch 41/50\n",
      "('learning rate:', 0.0018867924528301887)\n",
      "('derivative of loss:', 0.0636669937802498)\n",
      "0s - loss: 0.0010\n",
      "Epoch 42/50\n",
      "('learning rate:', 0.0018518518518518517)\n",
      "('derivative of loss:', 0.064086857840363304)\n",
      "0s - loss: 0.0010\n",
      "Epoch 43/50\n",
      "('learning rate:', 0.0018181818181818182)\n",
      "('derivative of loss:', 0.064533983639167722)\n",
      "0s - loss: 0.0010\n",
      "Epoch 44/50\n",
      "('learning rate:', 0.0017857142857142857)\n",
      "('derivative of loss:', 0.062934167894071455)\n",
      "0s - loss: 9.9018e-04\n",
      "Epoch 45/50\n",
      "('learning rate:', 0.0017543859649122807)\n",
      "('derivative of loss:', 0.064422720092760705)\n",
      "0s - loss: 0.0010\n",
      "Epoch 46/50\n",
      "('learning rate:', 0.0017241379310344825)\n",
      "('derivative of loss:', 0.063024335461721981)\n",
      "0s - loss: 9.9302e-04\n",
      "Epoch 47/50\n",
      "('learning rate:', 0.001694915254237288)\n",
      "('derivative of loss:', 0.064273174787447915)\n",
      "0s - loss: 0.0010\n",
      "Epoch 48/50\n",
      "('learning rate:', 0.0016666666666666668)\n",
      "('derivative of loss:', 0.06320866234247266)\n",
      "0s - loss: 9.9883e-04\n",
      "Epoch 49/50\n",
      "('learning rate:', 0.001639344262295082)\n",
      "('derivative of loss:', 0.061852186022771032)\n",
      "0s - loss: 9.5642e-04\n",
      "Epoch 50/50\n",
      "('learning rate:', 0.0016129032258064516)\n",
      "('derivative of loss:', 0.062604326150722922)\n",
      "0s - loss: 9.7983e-04\n"
     ]
    },
    {
     "name": "stderr",
     "output_type": "stream",
     "text": [
      "/usr/local/lib/python2.7/dist-packages/IPython/core/formatters.py:92: DeprecationWarning: DisplayFormatter._ipython_display_formatter_default is deprecated: use @default decorator instead.\n",
      "  def _ipython_display_formatter_default(self):\n",
      "/usr/local/lib/python2.7/dist-packages/IPython/core/formatters.py:669: DeprecationWarning: PlainTextFormatter._singleton_printers_default is deprecated: use @default decorator instead.\n",
      "  def _singleton_printers_default(self):\n"
     ]
    },
    {
     "data": {
      "text/plain": [
       "[0.01,\n",
       " 0.01,\n",
       " 0.01,\n",
       " 0.0062499999999999995,\n",
       " 0.0058823529411764705,\n",
       " 0.005555555555555556,\n",
       " 0.005263157894736843,\n",
       " 0.005,\n",
       " 0.0047619047619047615,\n",
       " 0.004545454545454545,\n",
       " 0.004347826086956522,\n",
       " 0.004166666666666666,\n",
       " 0.004,\n",
       " 0.003846153846153846,\n",
       " 0.0037037037037037034,\n",
       " 0.0035714285714285718,\n",
       " 0.003448275862068965,\n",
       " 0.0033333333333333335,\n",
       " 0.0032258064516129032,\n",
       " 0.0031249999999999997,\n",
       " 0.0030303030303030303,\n",
       " 0.0029411764705882353,\n",
       " 0.002857142857142857,\n",
       " 0.002777777777777778,\n",
       " 0.0027027027027027024,\n",
       " 0.002631578947368421,\n",
       " 0.002564102564102564,\n",
       " 0.0025,\n",
       " 0.002439024390243903,\n",
       " 0.0023809523809523807,\n",
       " 0.0023255813953488367,\n",
       " 0.0022727272727272726,\n",
       " 0.0022222222222222222,\n",
       " 0.002173913043478261,\n",
       " 0.002127659574468085,\n",
       " 0.002083333333333333,\n",
       " 0.002040816326530612,\n",
       " 0.002,\n",
       " 0.00196078431372549,\n",
       " 0.001923076923076923,\n",
       " 0.0018867924528301887,\n",
       " 0.0018518518518518517,\n",
       " 0.0018181818181818182,\n",
       " 0.0017857142857142857,\n",
       " 0.0017543859649122807,\n",
       " 0.0017241379310344825,\n",
       " 0.001694915254237288,\n",
       " 0.0016666666666666668,\n",
       " 0.001639344262295082,\n",
       " 0.0016129032258064516,\n",
       " 0.007692307692307692,\n",
       " 0.0071428571428571435,\n",
       " 0.006666666666666667,\n",
       " 0.0062499999999999995,\n",
       " 0.0058823529411764705,\n",
       " 0.005555555555555556,\n",
       " 0.005263157894736843,\n",
       " 0.005,\n",
       " 0.0047619047619047615,\n",
       " 0.004545454545454545,\n",
       " 0.004347826086956522,\n",
       " 0.004166666666666666,\n",
       " 0.004,\n",
       " 0.003846153846153846,\n",
       " 0.0037037037037037034,\n",
       " 0.0035714285714285718,\n",
       " 0.003448275862068965,\n",
       " 0.0033333333333333335,\n",
       " 0.0032258064516129032,\n",
       " 0.0031249999999999997,\n",
       " 0.0030303030303030303,\n",
       " 0.0029411764705882353,\n",
       " 0.002857142857142857,\n",
       " 0.002777777777777778,\n",
       " 0.0027027027027027024,\n",
       " 0.002631578947368421,\n",
       " 0.002564102564102564,\n",
       " 0.0025,\n",
       " 0.002439024390243903,\n",
       " 0.0023809523809523807,\n",
       " 0.0023255813953488367,\n",
       " 0.0022727272727272726,\n",
       " 0.0022222222222222222,\n",
       " 0.002173913043478261,\n",
       " 0.002127659574468085,\n",
       " 0.002083333333333333,\n",
       " 0.002040816326530612,\n",
       " 0.002,\n",
       " 0.00196078431372549,\n",
       " 0.001923076923076923,\n",
       " 0.0018867924528301887,\n",
       " 0.0018518518518518517,\n",
       " 0.0018181818181818182,\n",
       " 0.0017857142857142857,\n",
       " 0.0017543859649122807,\n",
       " 0.0017241379310344825,\n",
       " 0.001694915254237288,\n",
       " 0.0016666666666666668,\n",
       " 0.001639344262295082,\n",
       " 0.0016129032258064516]"
      ]
     },
     "execution_count": 12,
     "metadata": {},
     "output_type": "execute_result"
    }
   ],
   "source": [
    "model.compile(loss='mean_squared_error', optimizer=sgd)\n",
    "\n",
    "history=LossHistory()\n",
    "lrate=LearningRateScheduler(step_decay)\n",
    "\n",
    "model.fit(trainX, trainY, nb_epoch=epochs, batch_size=1, verbose=2,callbacks=[history,lrate])\n",
    "\n",
    "trainPredict = model.predict(trainX)\n",
    "testPredict = model.predict(testX)\n",
    "trainPredict-trainY\n",
    "sd[0]\n",
    "c3=range(0,len(sd))\n",
    "\n",
    "sd\n",
    "\n"
   ]
  },
  {
   "cell_type": "code",
   "execution_count": 13,
   "metadata": {
    "collapsed": false
   },
   "outputs": [],
   "source": [
    "import matplotlib.pyplot as plt\n",
    "\n",
    "%matplotlib inline"
   ]
  },
  {
   "cell_type": "code",
   "execution_count": 14,
   "metadata": {
    "collapsed": false
   },
   "outputs": [
    {
     "data": {
      "image/png": "[encoded data removed]",
      "text/plain": [
       "<matplotlib.figure.Figure at 0x7fe3aa037c90>"
      ]
     },
     "metadata": {},
     "output_type": "display_data"
    },
    {
     "name": "stdout",
     "output_type": "stream",
     "text": [
      "('Accuracy Train:', 0.97657308209201565)\n",
      "('Accuracy Test:', 0.961778978506724)\n"
     ]
    }
   ],
   "source": [
    "plt.figure(figsize=(9,6))\n",
    "line1,=plt.plot(trainPredict,linewidth=2,color='r',label='PREDICTION')\n",
    "line2,=plt.plot(trainY,linewidth=2,color='b',label='TIME SERIES')\n",
    "line3,=plt.plot(sd,'--',color='g',linewidth=3,label='LOSS')\n",
    "plt.title(\"TIME SERIES PREDICTION\")\n",
    "plt.legend([line1, line2,line3])\n",
    "plt.show()\n",
    "print('Accuracy Train:',1-np.mean(abs(trainPredict-trainY)))\n",
    "print('Accuracy Test:',1-np.mean(abs(testPredict-testY)))\n",
    "\n",
    "\n",
    "bb=testPredict-testY\n",
    "\n",
    "T=np.array(list(range(0,len(testX))))\n",
    "xnew = np.linspace(T.min(),T.max(),300)\n",
    "smooth = spline(T,testPredict,xnew)"
   ]
  },
  {
   "cell_type": "code",
   "execution_count": 15,
   "metadata": {
    "collapsed": false
   },
   "outputs": [
    {
     "data": {
      "image/png": "[encoded data removed]",
      "text/plain": [
       "<matplotlib.figure.Figure at 0x7fe3ab1c5810>"
      ]
     },
     "metadata": {},
     "output_type": "display_data"
    },
    {
     "name": "stdout",
     "output_type": "stream",
     "text": [
      "('ACCURACY PREDICTION OF VALUE:', 0.961778978506724)\n",
      "('ACCURACY STOCK PREDICTION (BUY|SELL):', 0.0, '(worse than random guess)')\n",
      "\n",
      "DIFFERENCE SIGNAL REAL - PREDICTED\n"
     ]
    },
    {
     "data": {
      "text/plain": [
       "array([[-0.0622977 ],\n",
       "       [ 0.00061995],\n",
       "       [ 0.07364964],\n",
       "       [-0.02941144],\n",
       "       [ 0.03263849],\n",
       "       [-0.03070891]])"
      ]
     },
     "execution_count": 15,
     "metadata": {},
     "output_type": "execute_result"
    }
   ],
   "source": [
    "plt.figure(figsize=(9,6))\n",
    "line11,=plt.plot(testPredict,label='PREDICTION',color='r',linewidth=2)\n",
    "line12,=plt.plot(testY,label='REAL')\n",
    "plt.title(\"STOCK PREDICTION - RECURRRENT NEURAL NETWORKS\")\n",
    "plt.legend([line11, line12])\n",
    "plt.show()\n",
    "print('ACCURACY PREDICTION OF VALUE:',1-np.mean(abs(bb)))\n",
    "print('ACCURACY STOCK PREDICTION (BUY|SELL):',float(sum(x>0 for x in bb)/len(bb)),'(worse than random guess)')\n",
    "print('')\n",
    "print('DIFFERENCE SIGNAL REAL - PREDICTED')\n",
    "bb\n"
   ]
  },
  {
   "cell_type": "code",
   "execution_count": null,
   "metadata": {
    "collapsed": true
   },
   "outputs": [],
   "source": []
  }
 ],
 "metadata": {
  "kernelspec": {
   "display_name": "Python 2",
   "language": "python",
   "name": "python2"
  },
  "language_info": {
   "codemirror_mode": {
    "name": "ipython",
    "version": 2
   },
   "file_extension": ".py",
   "mimetype": "text/x-python",
   "name": "python",
   "nbconvert_exporter": "python",
   "pygments_lexer": "ipython2",
   "version": "2.7.6"
  }
 },
 "nbformat": 4,
 "nbformat_minor": 2
}
