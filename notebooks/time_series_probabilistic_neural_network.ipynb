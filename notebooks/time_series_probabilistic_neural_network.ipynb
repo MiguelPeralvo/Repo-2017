{
 "cells": [
  {
   "cell_type": "code",
   "execution_count": 1,
   "metadata": {
    "collapsed": false
   },
   "outputs": [
    {
     "name": "stderr",
     "output_type": "stream",
     "text": [
      "Using Theano backend.\n"
     ]
    }
   ],
   "source": [
    "import pandas as pd\n",
    "import matplotlib.pyplot as plt\n",
    "import numpy\n",
    "import numpy as np\n",
    "import pandas\n",
    "import math\n",
    "from keras.models import Sequential\n",
    "from keras.layers import Dense, Dropout, Activation\n",
    "from keras.layers.recurrent import LSTM\n",
    "from keras.layers import LSTM\n",
    "from sklearn.preprocessing import MinMaxScaler\n",
    "from sklearn.metrics import mean_squared_error\n",
    "from keras import backend as K\n",
    "import keras.callbacks\n",
    "from keras.optimizers import SGD\n",
    "from keras.callbacks import LearningRateScheduler\n",
    "from keras.regularizers import l2, activity_l2\n",
    "from scipy.interpolate import spline"
   ]
  },
  {
   "cell_type": "code",
   "execution_count": 12,
   "metadata": {
    "collapsed": false
   },
   "outputs": [
    {
     "name": "stderr",
     "output_type": "stream",
     "text": [
      "/usr/local/lib/python2.7/dist-packages/ipykernel/pylab/config.py:66: DeprecationWarning: metadata {'config': True} was set from the constructor.  Metadata should be set using the .tag() method, e.g., Int().tag(key1='value1', key2='value2')\n",
      "  inline backend.\"\"\"\n",
      "/usr/local/lib/python2.7/dist-packages/ipykernel/pylab/config.py:71: DeprecationWarning: metadata {'config': True} was set from the constructor.  Metadata should be set using the .tag() method, e.g., Int().tag(key1='value1', key2='value2')\n",
      "  'retina', 'jpeg', 'svg', 'pdf'.\"\"\")\n",
      "/usr/local/lib/python2.7/dist-packages/ipykernel/pylab/config.py:85: DeprecationWarning: metadata {'config': True} was set from the constructor.  Metadata should be set using the .tag() method, e.g., Int().tag(key1='value1', key2='value2')\n",
      "  use `figure_formats` instead)\"\"\")\n",
      "/usr/local/lib/python2.7/dist-packages/ipykernel/pylab/config.py:95: DeprecationWarning: metadata {'config': True} was set from the constructor.  Metadata should be set using the .tag() method, e.g., Int().tag(key1='value1', key2='value2')\n",
      "  \"\"\"\n",
      "/usr/local/lib/python2.7/dist-packages/ipykernel/pylab/config.py:114: DeprecationWarning: metadata {'config': True} was set from the constructor.  Metadata should be set using the .tag() method, e.g., Int().tag(key1='value1', key2='value2')\n",
      "  \"\"\")\n",
      "/usr/local/lib/python2.7/dist-packages/ipykernel/pylab/config.py:44: DeprecationWarning: InlineBackend._config_changed is deprecated: use @observe and @unobserve instead.\n",
      "  def _config_changed(self, name, old, new):\n",
      "/usr/local/lib/python2.7/dist-packages/traitlets/traitlets.py:770: DeprecationWarning: A parent of InlineBackend._config_changed has adopted the new @observe(change) API\n",
      "  clsname, change_or_name), DeprecationWarning)\n",
      "/usr/local/lib/python2.7/dist-packages/IPython/core/formatters.py:98: DeprecationWarning: DisplayFormatter._formatters_default is deprecated: use @default decorator instead.\n",
      "  def _formatters_default(self):\n",
      "/usr/local/lib/python2.7/dist-packages/IPython/core/formatters.py:677: DeprecationWarning: PlainTextFormatter._deferred_printers_default is deprecated: use @default decorator instead.\n",
      "  def _deferred_printers_default(self):\n",
      "/usr/local/lib/python2.7/dist-packages/IPython/core/formatters.py:669: DeprecationWarning: PlainTextFormatter._singleton_printers_default is deprecated: use @default decorator instead.\n",
      "  def _singleton_printers_default(self):\n",
      "/usr/local/lib/python2.7/dist-packages/IPython/core/formatters.py:672: DeprecationWarning: PlainTextFormatter._type_printers_default is deprecated: use @default decorator instead.\n",
      "  def _type_printers_default(self):\n",
      "/usr/local/lib/python2.7/dist-packages/IPython/core/formatters.py:672: DeprecationWarning: PlainTextFormatter._type_printers_default is deprecated: use @default decorator instead.\n",
      "  def _type_printers_default(self):\n",
      "/usr/local/lib/python2.7/dist-packages/IPython/core/formatters.py:677: DeprecationWarning: PlainTextFormatter._deferred_printers_default is deprecated: use @default decorator instead.\n",
      "  def _deferred_printers_default(self):\n"
     ]
    }
   ],
   "source": [
    "import matplotlib.pyplot as plt\n",
    "\n",
    "%matplotlib inline"
   ]
  },
  {
   "cell_type": "code",
   "execution_count": 2,
   "metadata": {
    "collapsed": true
   },
   "outputs": [],
   "source": [
    "epochs = 50\n",
    "learning_rate = 0.01\n",
    "decay_rate = 5e-6\n",
    "momentum = 0.9\n",
    "reg=0.0001\n",
    "look_back = 23"
   ]
  },
  {
   "cell_type": "code",
   "execution_count": 3,
   "metadata": {
    "collapsed": false
   },
   "outputs": [
    {
     "name": "stdout",
     "output_type": "stream",
     "text": [
      "(115, 29)\n"
     ]
    }
   ],
   "source": [
    "dataframe = pd.read_csv('../data/international-airline-passengers.csv', usecols=[1], engine='python', skipfooter=3)\n",
    "dataset = dataframe.values\n",
    "dataset = dataset.astype('float32')\n",
    "##### PERIODO DEFINE MELHOR A PREVISÃO\n",
    "numpy.random.seed(7)\n",
    "scaler = MinMaxScaler(feature_range=(0, 1))\n",
    "dataset = scaler.fit_transform(dataset)\n",
    "train_size = int(len(dataset) * 0.8)\n",
    "test_size = len(dataset) - train_size\n",
    "train, test = dataset[0:train_size,:], dataset[train_size:len(dataset),:]\n",
    "print(len(train), len(test))"
   ]
  },
  {
   "cell_type": "code",
   "execution_count": 4,
   "metadata": {
    "collapsed": true
   },
   "outputs": [],
   "source": [
    "def my_init(shape, name=None):\n",
    "    value = np.random.random(shape)\n",
    "    return K.variable(value, name=name)\n",
    "\n",
    "def step_decay(losses):\n",
    "    if float(2*np.sqrt(np.array(history.losses[-1])))<0.15:\n",
    "        lrate=0.01*1/(1+0.1*len(history.losses))\n",
    "        momentum=0.2\n",
    "        decay_rate=0.0\n",
    "        return lrate\n",
    "    else:\n",
    "        lrate=0.01\n",
    "        return lrate\n",
    "sd=[]\n",
    "class LossHistory(keras.callbacks.Callback):\n",
    "    def on_train_begin(self, logs={}):\n",
    "        self.losses = [1,1]\n",
    "\n",
    "    def on_epoch_end(self, batch, logs={}):\n",
    "        self.losses.append(logs.get('loss'))\n",
    "        sd.append(step_decay(len(self.losses)))\n",
    "        print('learning rate:', step_decay(len(self.losses)))\n",
    "        print('derivative of loss:', 2*np.sqrt((self.losses[-1])))\n",
    "\n",
    "def create_dataset(dataset, look_back=1):\n",
    "\tdataX, dataY = [], []\n",
    "\tfor i in range(len(dataset)-look_back):\n",
    "\t\ta = dataset[i:(i+look_back), 0]\n",
    "\t\tdataX.append(a)\n",
    "\t\tdataY.append(dataset[i + look_back, 0])\n",
    "\treturn numpy.array(dataX), numpy.array(dataY)"
   ]
  },
  {
   "cell_type": "code",
   "execution_count": 5,
   "metadata": {
    "collapsed": true
   },
   "outputs": [],
   "source": [
    "trainX, trainY = create_dataset(train, look_back)\n",
    "testX, testY = create_dataset(test, look_back)\n",
    "trainX.shape\n",
    "# reshape input to be [samples, time steps, features]\n",
    "trainY = trainY.reshape(len(trainY), 1)\n",
    "testY = testY.reshape(len(testY), 1)"
   ]
  },
  {
   "cell_type": "code",
   "execution_count": 6,
   "metadata": {
    "collapsed": true
   },
   "outputs": [],
   "source": [
    "model = Sequential()\n",
    "model.add(Dense(4,input_dim=look_back,init=my_init))\n",
    "model.add(Dense(1, W_regularizer=l2(reg), activity_regularizer=activity_l2(reg)))\n",
    "sgd = SGD(lr=learning_rate,momentum=momentum, decay=decay_rate, nesterov=False,)\n",
    "\n"
   ]
  },
  {
   "cell_type": "code",
   "execution_count": 7,
   "metadata": {
    "collapsed": true
   },
   "outputs": [],
   "source": [
    "model.compile(loss='mean_squared_error', optimizer=sgd)\n",
    "\n",
    "history=LossHistory()\n",
    "lrate=LearningRateScheduler(step_decay)"
   ]
  },
  {
   "cell_type": "code",
   "execution_count": 8,
   "metadata": {
    "collapsed": false
   },
   "outputs": [
    {
     "name": "stderr",
     "output_type": "stream",
     "text": [
      "WARNING (theano.tensor.blas): We did not found a dynamic library into the library_dir of the library we use for blas. If you use ATLAS, make sure to compile it with dynamics library.\n"
     ]
    },
    {
     "name": "stdout",
     "output_type": "stream",
     "text": [
      "Epoch 1/50\n",
      "('learning rate:', 0.01)\n",
      "('derivative of loss:', 2.980061186199078)\n",
      "0s - loss: 2.2202\n",
      "Epoch 2/50\n",
      "('learning rate:', 0.01)\n",
      "('derivative of loss:', 0.22453292059011021)\n",
      "0s - loss: 0.0126\n",
      "Epoch 3/50\n",
      "('learning rate:', 0.01)\n",
      "('derivative of loss:', 0.17922771593951128)\n",
      "0s - loss: 0.0080\n",
      "Epoch 4/50\n",
      "('learning rate:', 0.0062499999999999995)\n",
      "('derivative of loss:', 0.13446460553182477)\n",
      "0s - loss: 0.0045\n",
      "Epoch 5/50\n",
      "('learning rate:', 0.0058823529411764705)\n",
      "('derivative of loss:', 0.11955952810364666)\n",
      "0s - loss: 0.0036\n",
      "Epoch 6/50\n",
      "('learning rate:', 0.005555555555555556)\n",
      "('derivative of loss:', 0.11440393085061293)\n",
      "0s - loss: 0.0033\n",
      "Epoch 7/50\n",
      "('learning rate:', 0.005263157894736843)\n",
      "('derivative of loss:', 0.11029018862245764)\n",
      "0s - loss: 0.0030\n",
      "Epoch 8/50\n",
      "('learning rate:', 0.005)\n",
      "('derivative of loss:', 0.10558712173232933)\n",
      "0s - loss: 0.0028\n",
      "Epoch 9/50\n",
      "('learning rate:', 0.0047619047619047615)\n",
      "('derivative of loss:', 0.10932417030372353)\n",
      "0s - loss: 0.0030\n",
      "Epoch 10/50\n",
      "('learning rate:', 0.004545454545454545)\n",
      "('derivative of loss:', 0.096989212133327715)\n",
      "0s - loss: 0.0024\n",
      "Epoch 11/50\n",
      "('learning rate:', 0.004347826086956522)\n",
      "('derivative of loss:', 0.09574250946353656)\n",
      "0s - loss: 0.0023\n",
      "Epoch 12/50\n",
      "('learning rate:', 0.004166666666666666)\n",
      "('derivative of loss:', 0.09495886315457179)\n",
      "0s - loss: 0.0023\n",
      "Epoch 13/50\n",
      "('learning rate:', 0.004)\n",
      "('derivative of loss:', 0.091869055645948564)\n",
      "0s - loss: 0.0021\n",
      "Epoch 14/50\n",
      "('learning rate:', 0.003846153846153846)\n",
      "('derivative of loss:', 0.095275128337660442)\n",
      "0s - loss: 0.0023\n",
      "Epoch 15/50\n",
      "('learning rate:', 0.0037037037037037034)\n",
      "('derivative of loss:', 0.093946627638753541)\n",
      "0s - loss: 0.0022\n",
      "Epoch 16/50\n",
      "('learning rate:', 0.0035714285714285718)\n",
      "('derivative of loss:', 0.087808059001806965)\n",
      "0s - loss: 0.0019\n",
      "Epoch 17/50\n",
      "('learning rate:', 0.003448275862068965)\n",
      "('derivative of loss:', 0.086640282279971226)\n",
      "0s - loss: 0.0019\n",
      "Epoch 18/50\n",
      "('learning rate:', 0.0033333333333333335)\n",
      "('derivative of loss:', 0.087232213122390073)\n",
      "0s - loss: 0.0019\n",
      "Epoch 19/50\n",
      "('learning rate:', 0.0032258064516129032)\n",
      "('derivative of loss:', 0.083818670580273022)\n",
      "0s - loss: 0.0018\n",
      "Epoch 20/50\n",
      "('learning rate:', 0.0031249999999999997)\n",
      "('derivative of loss:', 0.084279966144206797)\n",
      "0s - loss: 0.0018\n",
      "Epoch 21/50\n",
      "('learning rate:', 0.0030303030303030303)\n",
      "('derivative of loss:', 0.087183674017173321)\n",
      "0s - loss: 0.0019\n",
      "Epoch 22/50\n",
      "('learning rate:', 0.0029411764705882353)\n",
      "('derivative of loss:', 0.085430076143848968)\n",
      "0s - loss: 0.0018\n",
      "Epoch 23/50\n",
      "('learning rate:', 0.002857142857142857)\n",
      "('derivative of loss:', 0.083515685371206697)\n",
      "0s - loss: 0.0017\n",
      "Epoch 24/50\n",
      "('learning rate:', 0.002777777777777778)\n",
      "('derivative of loss:', 0.084746555761764611)\n",
      "0s - loss: 0.0018\n",
      "Epoch 25/50\n",
      "('learning rate:', 0.0027027027027027024)\n",
      "('derivative of loss:', 0.085091806927742847)\n",
      "0s - loss: 0.0018\n",
      "Epoch 26/50\n",
      "('learning rate:', 0.002631578947368421)\n",
      "('derivative of loss:', 0.080241613715116469)\n",
      "0s - loss: 0.0016\n",
      "Epoch 27/50\n",
      "('learning rate:', 0.002564102564102564)\n",
      "('derivative of loss:', 0.083565688617260353)\n",
      "0s - loss: 0.0017\n",
      "Epoch 28/50\n",
      "('learning rate:', 0.0025)\n",
      "('derivative of loss:', 0.083256349921109224)\n",
      "0s - loss: 0.0017\n",
      "Epoch 29/50\n",
      "('learning rate:', 0.002439024390243903)\n",
      "('derivative of loss:', 0.081718088364182054)\n",
      "0s - loss: 0.0017\n",
      "Epoch 30/50\n",
      "('learning rate:', 0.0023809523809523807)\n",
      "('derivative of loss:', 0.08129581573982346)\n",
      "0s - loss: 0.0017\n",
      "Epoch 31/50\n",
      "('learning rate:', 0.0023255813953488367)\n",
      "('derivative of loss:', 0.079476795807819745)\n",
      "0s - loss: 0.0016\n",
      "Epoch 32/50\n",
      "('learning rate:', 0.0022727272727272726)\n",
      "('derivative of loss:', 0.085730955154150967)\n",
      "0s - loss: 0.0018\n",
      "Epoch 33/50\n",
      "('learning rate:', 0.0022222222222222222)\n",
      "('derivative of loss:', 0.082006935146148999)\n",
      "0s - loss: 0.0017\n",
      "Epoch 34/50\n",
      "('learning rate:', 0.002173913043478261)\n",
      "('derivative of loss:', 0.081315784257593449)\n",
      "0s - loss: 0.0017\n",
      "Epoch 35/50\n",
      "('learning rate:', 0.002127659574468085)\n",
      "('derivative of loss:', 0.080944537697852148)\n",
      "0s - loss: 0.0016\n",
      "Epoch 36/50\n",
      "('learning rate:', 0.002083333333333333)\n",
      "('derivative of loss:', 0.080870346047373518)\n",
      "0s - loss: 0.0016\n",
      "Epoch 37/50\n",
      "('learning rate:', 0.002040816326530612)\n",
      "('derivative of loss:', 0.076160369360001104)\n",
      "0s - loss: 0.0015\n",
      "Epoch 38/50\n",
      "('learning rate:', 0.002)\n",
      "('derivative of loss:', 0.078385695851660026)\n",
      "0s - loss: 0.0015\n",
      "Epoch 39/50\n",
      "('learning rate:', 0.00196078431372549)\n",
      "('derivative of loss:', 0.079587634285328862)\n",
      "0s - loss: 0.0016\n",
      "Epoch 40/50\n",
      "('learning rate:', 0.001923076923076923)\n",
      "('derivative of loss:', 0.079266605944404822)\n",
      "0s - loss: 0.0016\n",
      "Epoch 41/50\n",
      "('learning rate:', 0.0018867924528301887)\n",
      "('derivative of loss:', 0.07766745537781318)\n",
      "0s - loss: 0.0015\n",
      "Epoch 42/50\n",
      "('learning rate:', 0.0018518518518518517)\n",
      "('derivative of loss:', 0.078289976538150993)\n",
      "0s - loss: 0.0015\n",
      "Epoch 43/50\n",
      "('learning rate:', 0.0018181818181818182)\n",
      "('derivative of loss:', 0.077481222420251059)\n",
      "0s - loss: 0.0015\n",
      "Epoch 44/50\n",
      "('learning rate:', 0.0017857142857142857)\n",
      "('derivative of loss:', 0.076924605274269933)\n",
      "0s - loss: 0.0015\n",
      "Epoch 45/50\n",
      "('learning rate:', 0.0017543859649122807)\n",
      "('derivative of loss:', 0.077613542349000794)\n",
      "0s - loss: 0.0015\n",
      "Epoch 46/50\n",
      "('learning rate:', 0.0017241379310344825)\n",
      "('derivative of loss:', 0.076636204799987256)\n",
      "0s - loss: 0.0015\n",
      "Epoch 47/50\n",
      "('learning rate:', 0.001694915254237288)\n",
      "('derivative of loss:', 0.076159474400263286)\n",
      "0s - loss: 0.0015\n",
      "Epoch 48/50\n",
      "('learning rate:', 0.0016666666666666668)\n",
      "('derivative of loss:', 0.075862522680822067)\n",
      "0s - loss: 0.0014\n",
      "Epoch 49/50\n",
      "('learning rate:', 0.001639344262295082)\n",
      "('derivative of loss:', 0.076346628131955932)\n",
      "0s - loss: 0.0015\n",
      "Epoch 50/50\n",
      "('learning rate:', 0.0016129032258064516)\n",
      "('derivative of loss:', 0.073807240543523972)\n",
      "0s - loss: 0.0014\n"
     ]
    },
    {
     "name": "stderr",
     "output_type": "stream",
     "text": [
      "/usr/local/lib/python2.7/dist-packages/keras/backend/theano_backend.py:514: UserWarning: theano.function was asked to create a function computing outputs given certain inputs, but the provided input variable at index 1 is not part of the computational graph needed to compute the outputs: keras_learning_phase.\n",
      "To make this warning into an error, you can pass the parameter on_unused_input='raise' to theano.function. To disable it completely, use on_unused_input='ignore'.\n",
      "  **kwargs)\n"
     ]
    }
   ],
   "source": [
    "model.fit(trainX, trainY, nb_epoch=epochs, batch_size=1, verbose=2,callbacks=[history,lrate])\n",
    "\n",
    "trainPredict = model.predict(trainX)\n",
    "testPredict = model.predict(testX)\n",
    "trainPredict-trainY\n",
    "sd[0]\n",
    "c3=range(0,len(sd))"
   ]
  },
  {
   "cell_type": "code",
   "execution_count": 9,
   "metadata": {
    "collapsed": true
   },
   "outputs": [],
   "source": [
    "threshold=1.2\n",
    "error0=np.mean(abs(trainPredict-trainY))\n",
    "error=error0+error0*threshold\n",
    "est_min=np.reshape([trainPredict[i]-error for i in range(0,len(trainPredict))],(92,))\n",
    "est_max=np.reshape([trainPredict[i]+error for i in range(0,len(trainPredict))],(92,))"
   ]
  },
  {
   "cell_type": "code",
   "execution_count": 10,
   "metadata": {
    "collapsed": true
   },
   "outputs": [],
   "source": [
    "x = np.arange(0, len(trainPredict), 1)\n",
    "color0='lawngreen'"
   ]
  },
  {
   "cell_type": "code",
   "execution_count": 13,
   "metadata": {
    "collapsed": false
   },
   "outputs": [
    {
     "name": "stderr",
     "output_type": "stream",
     "text": [
      "/usr/local/lib/python2.7/dist-packages/IPython/core/formatters.py:92: DeprecationWarning: DisplayFormatter._ipython_display_formatter_default is deprecated: use @default decorator instead.\n",
      "  def _ipython_display_formatter_default(self):\n",
      "/usr/local/lib/python2.7/dist-packages/IPython/core/formatters.py:669: DeprecationWarning: PlainTextFormatter._singleton_printers_default is deprecated: use @default decorator instead.\n",
      "  def _singleton_printers_default(self):\n",
      "/usr/lib/pymodules/python2.7/matplotlib/collections.py:548: FutureWarning: elementwise comparison failed; returning scalar instead, but in the future will perform elementwise comparison\n",
      "  if self._edgecolors == 'face':\n"
     ]
    },
    {
     "data": {
      "image/png": "[encoded data removed]",
      "text/plain": [
       "<matplotlib.figure.Figure at 0x7f3a94fc03d0>"
      ]
     },
     "metadata": {},
     "output_type": "display_data"
    }
   ],
   "source": [
    "plt.figure(figsize=(9,6))\n",
    "plt.plot(est_min,color=color0,linewidth=1)\n",
    "plt.plot(est_max,color=color0,linewidth=1)\n",
    "plt.fill_between(x,est_min,est_max,facecolor=color0)\n",
    "plt.plot(trainY,linewidth=2,color='b',label='TIME SERIES')\n",
    "plt.title(\"Probabilistic Neural Networks\\n\"+\"TIME SERIES PREDICTION\\n\"+'Error Margin: {}'.format(round(error,3)),fontweight='bold')\n",
    "plt.xlabel('Months')\n",
    "plt.ylabel('Sales')\n",
    "plt.show()"
   ]
  },
  {
   "cell_type": "code",
   "execution_count": 14,
   "metadata": {
    "collapsed": false
   },
   "outputs": [
    {
     "name": "stdout",
     "output_type": "stream",
     "text": [
      "('Accuracy Train:', 0.9715895915161008)\n",
      "('Accuracy Test:', 0.95165408651034034)\n"
     ]
    }
   ],
   "source": [
    "print('Accuracy Train:',1-np.mean(abs(trainPredict-trainY)))\n",
    "print('Accuracy Test:',1-np.mean(abs(testPredict-testY)))"
   ]
  },
  {
   "cell_type": "code",
   "execution_count": null,
   "metadata": {
    "collapsed": true
   },
   "outputs": [],
   "source": []
  }
 ],
 "metadata": {
  "kernelspec": {
   "display_name": "Python 2",
   "language": "python",
   "name": "python2"
  },
  "language_info": {
   "codemirror_mode": {
    "name": "ipython",
    "version": 2
   },
   "file_extension": ".py",
   "mimetype": "text/x-python",
   "name": "python",
   "nbconvert_exporter": "python",
   "pygments_lexer": "ipython2",
   "version": "2.7.6"
  }
 },
 "nbformat": 4,
 "nbformat_minor": 0
}
